{
  "nbformat": 4,
  "nbformat_minor": 0,
  "metadata": {
    "colab": {
      "provenance": []
    },
    "kernelspec": {
      "name": "python3",
      "display_name": "Python 3"
    },
    "language_info": {
      "name": "python"
    }
  },
  "cells": [
    {
      "cell_type": "code",
      "execution_count": 1,
      "metadata": {
        "id": "eY6bF4fyQfFk",
        "colab": {
          "base_uri": "https://localhost:8080/"
        },
        "outputId": "d4a6a745-7c12-48b0-ec2d-3196fbd8b778"
      },
      "outputs": [
        {
          "output_type": "stream",
          "name": "stdout",
          "text": [
            "                                                Text Emotions\n",
            "0  i can go from feeling so hopeless to so damned...  sadness\n",
            "1   im grabbing a minute to post i feel greedy wrong    anger\n",
            "2  i am ever feeling nostalgic about the fireplac...     love\n",
            "3                               i am feeling grouchy    anger\n",
            "4  ive been feeling a little burdened lately wasn...  sadness\n"
          ]
        }
      ],
      "source": [
        "import pandas as pd\n",
        "import numpy as np\n",
        "import tensorflow\n",
        "import keras\n",
        "from keras.preprocessing.text import Tokenizer\n",
        "from keras.preprocessing.sequence import pad_sequences\n",
        "from sklearn.preprocessing import LabelEncoder\n",
        "from sklearn.model_selection import train_test_split\n",
        "from keras.models import Sequential\n",
        "from keras.layers import Embedding,Flatten,Dense\n",
        "\n",
        "data=pd.read_csv(\"train.txt\",sep=\";\")\n",
        "data.columns=[\"Text\",\"Emotions\"]\n",
        "print(data.head())\n"
      ]
    },
    {
      "cell_type": "code",
      "source": [
        "text=data[\"Text\"].tolist()\n",
        "labels=data[\"Emotions\"].tolist()\n",
        "tokenizer=Tokenizer()\n",
        "tokenizer.fit_on_texts(text)"
      ],
      "metadata": {
        "id": "4KPcYYEcTprd"
      },
      "execution_count": 2,
      "outputs": []
    },
    {
      "cell_type": "code",
      "source": [
        "sequences=tokenizer.texts_to_sequences(text)\n",
        "max_len=max([len(seq) for seq in sequences])\n",
        "padded_sequences=pad_sequences(sequences,maxlen=max_len)"
      ],
      "metadata": {
        "id": "0-9pAF1BUWE4"
      },
      "execution_count": 3,
      "outputs": []
    },
    {
      "cell_type": "code",
      "source": [
        "label_encoder=LabelEncoder()\n",
        "labels=label_encoder.fit_transform(labels)"
      ],
      "metadata": {
        "id": "pY6IDf8dUo1N"
      },
      "execution_count": null,
      "outputs": []
    },
    {
      "cell_type": "code",
      "source": [
        "sequences=tokenizer.texts_to_sequences(text)"
      ],
      "metadata": {
        "id": "zpfnJu_PU1lG"
      },
      "execution_count": 5,
      "outputs": []
    },
    {
      "cell_type": "code",
      "source": [
        "label_encoder=LabelEncoder()\n",
        "labels=label_encoder.fit_transform(labels)"
      ],
      "metadata": {
        "id": "RO6EWw4pU6n7"
      },
      "execution_count": 8,
      "outputs": []
    },
    {
      "cell_type": "code",
      "source": [
        "one_hot_labels=keras.utils.to_categorical(labels)"
      ],
      "metadata": {
        "id": "dzNKINfwU-uu"
      },
      "execution_count": 9,
      "outputs": []
    },
    {
      "cell_type": "code",
      "source": [
        "xtrain,xtest,ytrain,ytest=train_test_split(padded_sequences,one_hot_labels,test_size=0.2)"
      ],
      "metadata": {
        "id": "dYnRe_p6VdY2"
      },
      "execution_count": 10,
      "outputs": []
    },
    {
      "cell_type": "code",
      "source": [
        "model=Sequential()\n",
        "model.add(Embedding(input_dim=len(tokenizer.word_index)+1,\n",
        "                    output_dim=128,input_length=max_len))\n",
        "model.add(Flatten())\n",
        "model.add(Dense(units=128,activation=\"relu\"))\n",
        "model.add(Dense(units=len(one_hot_labels[0]),activation=\"softmax\"))\n",
        "\n",
        "model.compile(optimizer=\"adam\",loss=\"categorical_crossentropy\",metrics=[\"accuracy\"])\n",
        "model.fit(xtrain,ytrain,epochs=10,batch_size=32,validation_data=(xtest,ytest))"
      ],
      "metadata": {
        "colab": {
          "base_uri": "https://localhost:8080/"
        },
        "id": "Prx7zdmSVh5b",
        "outputId": "5e085bfc-8337-4539-c346-869ef26faf4b"
      },
      "execution_count": 13,
      "outputs": [
        {
          "output_type": "stream",
          "name": "stdout",
          "text": [
            "Epoch 1/10\n",
            "400/400 [==============================] - 21s 50ms/step - loss: 1.3512 - accuracy: 0.4887 - val_loss: 0.8657 - val_accuracy: 0.7334\n",
            "Epoch 2/10\n",
            "400/400 [==============================] - 21s 52ms/step - loss: 0.3257 - accuracy: 0.9022 - val_loss: 0.5396 - val_accuracy: 0.8263\n",
            "Epoch 3/10\n",
            "400/400 [==============================] - 24s 60ms/step - loss: 0.0541 - accuracy: 0.9859 - val_loss: 0.5685 - val_accuracy: 0.8259\n",
            "Epoch 4/10\n",
            "400/400 [==============================] - 20s 49ms/step - loss: 0.0215 - accuracy: 0.9955 - val_loss: 0.5883 - val_accuracy: 0.8284\n",
            "Epoch 5/10\n",
            "400/400 [==============================] - 21s 54ms/step - loss: 0.0162 - accuracy: 0.9968 - val_loss: 0.6168 - val_accuracy: 0.8250\n",
            "Epoch 6/10\n",
            "400/400 [==============================] - 22s 54ms/step - loss: 0.0133 - accuracy: 0.9973 - val_loss: 0.6611 - val_accuracy: 0.8266\n",
            "Epoch 7/10\n",
            "400/400 [==============================] - 20s 50ms/step - loss: 0.0107 - accuracy: 0.9977 - val_loss: 0.6860 - val_accuracy: 0.8228\n",
            "Epoch 8/10\n",
            "400/400 [==============================] - 24s 60ms/step - loss: 0.0105 - accuracy: 0.9977 - val_loss: 0.6941 - val_accuracy: 0.8138\n",
            "Epoch 9/10\n",
            "400/400 [==============================] - 23s 58ms/step - loss: 0.0116 - accuracy: 0.9975 - val_loss: 0.7315 - val_accuracy: 0.8178\n",
            "Epoch 10/10\n",
            "400/400 [==============================] - 18s 45ms/step - loss: 0.0080 - accuracy: 0.9980 - val_loss: 0.7433 - val_accuracy: 0.8172\n"
          ]
        },
        {
          "output_type": "execute_result",
          "data": {
            "text/plain": [
              "<keras.src.callbacks.History at 0x7fc09a1844f0>"
            ]
          },
          "metadata": {},
          "execution_count": 13
        }
      ]
    },
    {
      "cell_type": "code",
      "source": [
        "input_text=\"He is feeling good because he won the match \"\n",
        "input_sequences=tokenizer.texts_to_sequences([input_text])\n",
        "padded_input_sequences=pad_sequences(input_sequences,maxlen=max_len)\n",
        "prediction=model.predict(padded_input_sequences)\n",
        "predicted_label=label_encoder.inverse_transform([np.argmax(prediction[0])])\n",
        "print(predicted_label[0])"
      ],
      "metadata": {
        "colab": {
          "base_uri": "https://localhost:8080/"
        },
        "id": "8cFfs2GwVsgz",
        "outputId": "1f250ed8-590c-4fff-f141-ae2aef52b140"
      },
      "execution_count": 16,
      "outputs": [
        {
          "output_type": "stream",
          "name": "stdout",
          "text": [
            "1/1 [==============================] - 0s 20ms/step\n",
            "joy\n"
          ]
        }
      ]
    },
    {
      "cell_type": "code",
      "source": [],
      "metadata": {
        "id": "5-rCPDbyYx6i"
      },
      "execution_count": null,
      "outputs": []
    }
  ]
}